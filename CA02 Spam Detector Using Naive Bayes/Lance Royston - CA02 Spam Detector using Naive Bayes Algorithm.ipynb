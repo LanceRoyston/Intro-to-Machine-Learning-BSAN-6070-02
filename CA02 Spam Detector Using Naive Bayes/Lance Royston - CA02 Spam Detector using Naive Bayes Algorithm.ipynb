{
 "cells": [
  {
   "cell_type": "code",
   "execution_count": 1,
   "id": "44b8c02e",
   "metadata": {},
   "outputs": [],
   "source": [
    "#### CA02 Building a Spam Detector using Naive Bayes Algorithm\n",
    "\n",
    "import os\n",
    "import numpy as np\n",
    "from collections import Counter\n",
    "from sklearn.naive_bayes import GaussianNB\n",
    "from sklearn.metrics import accuracy_score\n"
   ]
  },
  {
   "cell_type": "code",
   "execution_count": 2,
   "id": "8d0c829e",
   "metadata": {},
   "outputs": [],
   "source": [
    "\n",
    "def make_Dictionary(root_dir):\n",
    "    all_words = []\n",
    "    # Gather all words from the files\n",
    "    emails = [os.path.join(root_dir, f) for f in os.listdir(root_dir)]\n",
    "    for mail in emails:\n",
    "        with open(mail) as m:\n",
    "            for line in m:\n",
    "                all_words.extend(line.split())\n",
    "\n",
    "    # Create a Counter object for all words that are alphabetic and longer than one character\n",
    "    dictionary_counter = Counter(word for word in all_words if word.isalpha() and len(word) > 1)\n",
    "\n",
    "    # Return the 3000 most common words as a list of tuples (word, frequency)\n",
    "    return dictionary_counter.most_common(3000)\n",
    "\n"
   ]
  },
  {
   "cell_type": "code",
   "execution_count": 3,
   "id": "36f72877",
   "metadata": {},
   "outputs": [],
   "source": [
    "def extract_features(mail_dir, dictionary):\n",
    "    # Assuming the dictionary passed in is a list of tuples (word, frequency)\n",
    "    # Convert it into a dictionary of word:index\n",
    "    word_index = {word[0]: idx for idx, word in enumerate(dictionary)}\n",
    "\n",
    "    files = [os.path.join(mail_dir, fi) for fi in os.listdir(mail_dir)]\n",
    "    features_matrix = np.zeros((len(files), len(dictionary)), dtype=np.int_)\n",
    "    train_labels = np.zeros(len(files), dtype=np.int_)\n",
    "\n",
    "    for docID, file in enumerate(files):\n",
    "        with open(file, 'r') as fi:\n",
    "            lines = fi.readlines()\n",
    "            if len(lines) > 2:\n",
    "                words = lines[2].split()\n",
    "                for word in words:\n",
    "                    wordID = word_index.get(word, -1)\n",
    "                    if wordID >= 0:\n",
    "                        features_matrix[docID, wordID] += 1\n",
    "        train_labels[docID] = 1 if 'spmsg' in file else 0\n",
    "\n",
    "    return features_matrix, train_labels\n"
   ]
  },
  {
   "cell_type": "code",
   "execution_count": 4,
   "id": "2c792842",
   "metadata": {},
   "outputs": [],
   "source": [
    "# Pathnames for testing and training data\n",
    "\n",
    "TRAIN_DIR = (\"/Users/lanceroyston/Downloads/MSBA 2023 - 2024/Spring 2024/Intro to Machine Learning BSAN 6070/CA's/CA02 Spam Detector Using Naive Bayes /train-mails\")\n",
    "TEST_DIR = (\"/Users/lanceroyston/Downloads/MSBA 2023 - 2024/Spring 2024/Intro to Machine Learning BSAN 6070/CA's/CA02 Spam Detector Using Naive Bayes /test-mails\")\n"
   ]
  },
  {
   "cell_type": "code",
   "execution_count": 5,
   "id": "6b4ecd30",
   "metadata": {},
   "outputs": [],
   "source": [
    "# Create a dictionary from the training data\n",
    "dictionary_list = make_Dictionary(TRAIN_DIR)\n",
    "\n",
    "\n",
    "# Extract features and labels from the training data\n",
    "features_matrix, labels = extract_features(TRAIN_DIR, dictionary_list)\n",
    "\n",
    "# Extract features and labels from the test data\n",
    "test_features_matrix, test_labels = extract_features(TEST_DIR, dictionary_list)\n"
   ]
  },
  {
   "cell_type": "code",
   "execution_count": 6,
   "id": "b74a081e",
   "metadata": {},
   "outputs": [
    {
     "name": "stdout",
     "output_type": "stream",
     "text": [
      "reading and processing emails from TRAIN and TEST folders\n",
      "Training Model using Gaussian Naive Bayes algorithm .....\n",
      "Training completed\n",
      "testing trained model to predict Test Data labels\n",
      "Completed classification of the Test Data .... now printing Accuracy Score by comparing the Predicted Labels with the Test Labels:\n",
      "0.9653846153846154\n"
     ]
    }
   ],
   "source": [
    "print (\"reading and processing emails from TRAIN and TEST folders\")\n",
    "\n",
    "\n",
    "# Training the Naive Bayes model\n",
    "print(\"Training Model using Gaussian Naive Bayes algorithm .....\")\n",
    "model = GaussianNB()\n",
    "model.fit(features_matrix, labels)\n",
    "print(\"Training completed\")\n",
    "    \n",
    "# Predicting the labels of the test data\n",
    "print(\"testing trained model to predict Test Data labels\")\n",
    "predicted_labels = model.predict(test_features_matrix)\n",
    "print(\"Completed classification of the Test Data .... now printing Accuracy Score by comparing the Predicted Labels with the Test Labels:\") \n",
    "    \n",
    "# Calculating and printing the accuracy\n",
    "accuracy = accuracy_score(test_labels, predicted_labels)\n",
    "print(accuracy)"
   ]
  }
 ],
 "metadata": {
  "kernelspec": {
   "display_name": "Python 3 (ipykernel)",
   "language": "python",
   "name": "python3"
  },
  "language_info": {
   "codemirror_mode": {
    "name": "ipython",
    "version": 3
   },
   "file_extension": ".py",
   "mimetype": "text/x-python",
   "name": "python",
   "nbconvert_exporter": "python",
   "pygments_lexer": "ipython3",
   "version": "3.11.5"
  }
 },
 "nbformat": 4,
 "nbformat_minor": 5
}
